{
 "metadata": {
  "name": "PAC1"
 },
 "nbformat": 3,
 "nbformat_minor": 0,
 "worksheets": [
  {
   "cells": [
    {
     "cell_type": "heading",
     "level": 1,
     "metadata": {},
     "source": [
      "Distribuded Systems. PAC1."
     ]
    },
    {
     "cell_type": "heading",
     "level": 2,
     "metadata": {},
     "source": [
      "Pere Vil\u00e1s Mar\u00ed"
     ]
    },
    {
     "cell_type": "heading",
     "level": 3,
     "metadata": {},
     "source": [
      "1. Describe what kinds of trends in distributed systems are included in the chapter 1. Present two application examples for every trend."
     ]
    },
    {
     "cell_type": "heading",
     "level": 4,
     "metadata": {},
     "source": [
      "Ubiquitous computing"
     ]
    },
    {
     "cell_type": "raw",
     "metadata": {},
     "source": [
      "It's related with the fact that computers are everywhere in the modern world, sometimes totaly hidden from our sight. It's also related with the need to have computers available at any time. Some examples could be wearable computers or google glasses."
     ]
    },
    {
     "cell_type": "heading",
     "level": 4,
     "metadata": {},
     "source": [
      "pervasive networking"
     ]
    },
    {
     "cell_type": "raw",
     "metadata": {},
     "source": [
      "Of course, the \"ubiquitous computers\" will be nothing without being connected to the Internet. New technologies like wifimax or IP v.6 will result in the Internet of things."
     ]
    },
    {
     "cell_type": "heading",
     "level": 4,
     "metadata": {},
     "source": [
      "multimedia services"
     ]
    },
    {
     "cell_type": "raw",
     "metadata": {},
     "source": [
      "Having a good distribution system to deliver digital content to everywhere will increase the demand of services like videoconfering or film-on-request."
     ]
    },
    {
     "cell_type": "heading",
     "level": 4,
     "metadata": {},
     "source": [
      "distributed systems as a utility"
     ]
    },
    {
     "cell_type": "raw",
     "metadata": {},
     "source": [
      "I'm writting these pages on https://www.wakari.io/ , an utility web software that permits to have a complete sci-tech computer environment without having to install anything in your own computer. These services, like others like google docs are examples of software as a service."
     ]
    },
    {
     "cell_type": "heading",
     "level": 3,
     "metadata": {},
     "source": [
      "2. What kind of applications would you base on two-tier architecture and which ones on three-tier architecture? Describe advantages and disadvantages of these two architectures."
     ]
    },
    {
     "cell_type": "raw",
     "metadata": {},
     "source": [
      "Two-tier architecture is the traditional way of access to a network service, where all the server access, logic and database are handled by a single layer (a server). In the three-tier schema we put some of these services like user access lists, bussiness logic, etc. into another layer in order to be more database-independent, more SO-independent or more Webserver-independent. \n",
      "\n",
      "With the three-tier architecture we can, for example, load-balancing the servers or change the underlying database without change all the other components because the system is more decoupled. One disadvantage is the rise of complexity of the entire system."
     ]
    },
    {
     "cell_type": "heading",
     "level": 3,
     "metadata": {},
     "source": [
      "3. Indicate which figure represents the synchronous communication and which one represents asynchronous communication. Explain your reasoning."
     ]
    },
    {
     "cell_type": "raw",
     "metadata": {},
     "source": [
      "Attending to the \"user activity\" line on the client side it seems that the left figure represents a synchronous interaction and the right one an asynchronous communitacion because on the left the user activity line is discontinous.\n",
      "\n",
      "Instead is it possible to make a synchronous ajax call, the usual way is to let the user interact with the rest of the page between the ajax call is taken place. This way the user has more freedom and perceives a more quickly response than the traditional loading of the whole page."
     ]
    },
    {
     "cell_type": "heading",
     "level": 3,
     "metadata": {},
     "source": [
      "4. Describe what does the Raft algorithm provide?"
     ]
    },
    {
     "cell_type": "raw",
     "metadata": {},
     "source": [
      "Raft provides an easy to undersand algorithm to have a replicated log to allow a collection of machines working as a coherent group to survive to a faillure of some of its members."
     ]
    },
    {
     "cell_type": "heading",
     "level": 3,
     "metadata": {},
     "source": [
      "5. How does it use RPC mechanism?"
     ]
    },
    {
     "cell_type": "raw",
     "metadata": {},
     "source": [
      "It uses the RPC mechanism it in two situations:\n",
      "    RequestVote: used by candidates during the elections to gather votes\n",
      "        Arguments (term, candidateId, lastLogIndex, lastLogTerm)\n",
      "        Results (term, voteGranted)\n",
      "    AppendEntries: used by the leader to replicate the log entries\n",
      "        Arguments (term, leaderId, prevLogIndex, prevLogTerm, entries[], leaderCommit)\n",
      "        Results (term, success)"
     ]
    },
    {
     "cell_type": "heading",
     "level": 3,
     "metadata": {},
     "source": [
      "6. What kind of architecture is used to implement this algorithm? What functionalities are provided by every layer?"
     ]
    },
    {
     "cell_type": "raw",
     "metadata": {},
     "source": [
      "I'm not sure to totally understand the question. \n",
      "\n",
      "If the question is related to the underliying physical network architecture we are talking about a (local) network of (usually 5) computers. The leader is not acting as the main connection server. The client can connect to any of the machines and if the server is a follower the client will be redirected to the leader. \n",
      "\n",
      "Form the point of view of the service to the client this is a traditional client-server architecture. There is not real time load-balancing or something similar.\n",
      "\n",
      "The communications between computers is done by the RPC \"protocol\" and some kind of heartbeat mechanism. There is only one layer from my point of view."
     ]
    }
   ],
   "metadata": {}
  }
 ]
}