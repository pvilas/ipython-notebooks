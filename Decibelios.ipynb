{
 "metadata": {
  "name": "Decibelios"
 },
 "nbformat": 3,
 "nbformat_minor": 0,
 "worksheets": [
  {
   "cells": [
    {
     "cell_type": "heading",
     "level": 1,
     "metadata": {},
     "source": [
      "Decibelios"
     ]
    },
    {
     "cell_type": "heading",
     "level": 2,
     "metadata": {},
     "source": [
      "Definici\u00f3n"
     ]
    },
    {
     "cell_type": "markdown",
     "metadata": {},
     "source": [
      "El decibelio (dB) es una *unidad relativa*, es decir, no absoluta o de comparaci\u00f3n que expresa la relaci\u00f3n entre *dos magnitudes*:\n",
      "\n",
      "+ la de estudio y\n",
      "+ la de comparaci\u00f3n\n",
      "\n",
      "El decibelio es una unidad:\n",
      "\n",
      "+ logar\u00edtmica, \n",
      "+ adimensional y \n",
      "+ escalar\n",
      "\n",
      "Un belio equivale a 10 decibelios.\n",
      "\n",
      "Como es una unidad logar\u00edtmica en base 10, si 0 belios es la magnitud de referencia, entonces 10 decibelios expresa un aumento de *10* veces la potencia y 20 decibelios expresa un aumento de __100__ veces la potencia. Esto es, una diferencia de 40dB es una diferencia absoluta de 10000 unidades de medida ($10^4$).\n",
      "\n",
      "Una tabla de valores ser\u00eda:\n",
      "\n",
      "<table>\n",
      "    <tr>\n",
      "        <td>$10 log X$</td>\n",
      "        <td>$X$</td>\n",
      "    </tr>\n",
      "    <tr><td>40</td><td>10000</td></tr>\n",
      "    <tr><td>30</td><td>1000</td></tr>\n",
      "    <tr><td>20</td><td>100</td></tr>\n",
      "    <tr><td>10</td><td>10</td></tr>\n",
      "    <tr><td>0</td><td>1</td></tr>\n",
      "    <tr><td>-10</td><td>0.1</td></tr>    \n",
      "    <tr><td>-20</td><td>0.01</td></tr>    \n",
      "    <tr><td>-30</td><td>0.001</td></tr>    \n",
      "    <tr><td>-40</td><td>0.0001</td></tr>        \n",
      "</table>\n",
      "\n"
     ]
    },
    {
     "cell_type": "heading",
     "level": 2,
     "metadata": {},
     "source": [
      "Telecomunicaciones"
     ]
    },
    {
     "cell_type": "markdown",
     "metadata": {},
     "source": [
      "En telecomunicaciones no hay un nivel fijo o de referencia. Usamos el decibelio para *comparar* dos cantidades ,posiblemente muy diferentes, y por ello usamos la escala logar\u00edtmica.\n",
      "\n",
      "Por ejemplo la ganancia, en decibelios, de un dispositivo es:\n",
      "\n",
      "$dB = 10 log_{10} \\frac{P_S}{P_E}$\n",
      "\n",
      "donde $P_E$ es la potencia de entrada y $P_S$ es la de salida. Si $dB>0$ el sistema es amplificador y si $dB<0$ es atenuador."
     ]
    },
    {
     "cell_type": "heading",
     "level": 3,
     "metadata": {},
     "source": [
      "Suma de decibelios"
     ]
    },
    {
     "cell_type": "markdown",
     "metadata": {},
     "source": [
      "Como hemos dicho, al ser el decibelio una unidad relativa, no podemos sumar sin m\u00e1s dos magnitudes en estas unidades ya que podr\u00edan referirse a or\u00edgenes relativos distintos. Por ejemplo, si tenemos dos medidas de sonido de 21dB el total no son 42db si no 24dB. La forma de sumar magnitudes en decibelios es transformarlas a las unidades originales, sumar y luego volver a pasar a decibelios o bien aplicar:\n",
      "\n",
      "$dBTotales=10log_{10}(10^{\\frac{X_1}{10}}+10^{\\frac{X_2}{10}}+...)$\n",
      "\n",
      "Donde los $X_n$ son los diferentes valores a sumar en dB."
     ]
    },
    {
     "cell_type": "heading",
     "level": 3,
     "metadata": {},
     "source": [
      "Algunos ejemplos"
     ]
    },
    {
     "cell_type": "code",
     "collapsed": false,
     "input": [
      "import math\n",
      "10*math.log10(10./5.)"
     ],
     "language": "python",
     "metadata": {},
     "outputs": [
      {
       "output_type": "pyout",
       "prompt_number": 9,
       "text": [
        "3.010299956639812"
       ]
      }
     ],
     "prompt_number": 9
    },
    {
     "cell_type": "markdown",
     "metadata": {},
     "source": [
      "Vemos que una diferencia en magnitud del doble son *3dB*"
     ]
    },
    {
     "cell_type": "code",
     "collapsed": false,
     "input": [
      "10*math.log10(5./10.)"
     ],
     "language": "python",
     "metadata": {},
     "outputs": [
      {
       "output_type": "pyout",
       "prompt_number": 10,
       "text": [
        "-3.010299956639812"
       ]
      }
     ],
     "prompt_number": 10
    },
    {
     "cell_type": "markdown",
     "metadata": {},
     "source": [
      "Del mismo modo, una diferencia en magnitud de la mitad son *-3dB*"
     ]
    },
    {
     "cell_type": "code",
     "collapsed": false,
     "input": [
      "10*math.log10(30./10.)"
     ],
     "language": "python",
     "metadata": {},
     "outputs": [
      {
       "output_type": "pyout",
       "prompt_number": 12,
       "text": [
        "4.771212547196624"
       ]
      }
     ],
     "prompt_number": 12
    },
    {
     "cell_type": "markdown",
     "metadata": {},
     "source": [
      "... pero una diferencia del triple son **4.7dB**, no *6db*"
     ]
    },
    {
     "cell_type": "markdown",
     "metadata": {},
     "source": [
      "Una antena que recibe 1W y produce una se\u00f1al de 100W tiene una ganancia, en dB, de "
     ]
    },
    {
     "cell_type": "code",
     "collapsed": false,
     "input": [
      "10*math.log10(100./1.)"
     ],
     "language": "python",
     "metadata": {},
     "outputs": [
      {
       "output_type": "pyout",
       "prompt_number": 22,
       "text": [
        "20.0"
       ]
      }
     ],
     "prompt_number": 22
    },
    {
     "cell_type": "markdown",
     "metadata": {},
     "source": [
      "Y ahora, a ver si se dibujar (primera prueba) la curva $log_{10}$\n",
      "Notar que, al igual que matlab, lo que hacemos es samplear la curva y pasarle los puntos a la funci\u00f3n plot.\n",
      "El ejemplo lo he sacado de [aqui](https://github.com/calebmadrigal/FourierTalkOSCON)."
     ]
    },
    {
     "cell_type": "code",
     "collapsed": false,
     "input": [
      "import scipy, math\n",
      "import matplotlib.pyplot as plt\n",
      "\n",
      "# Graphing helper function\n",
      "def setup_graph(title='', x_label='', y_label='', fig_size=None):\n",
      "    fig = plt.figure()\n",
      "    if fig_size != None:\n",
      "        fig.set_size_inches(fig_size[0], fig_size[1])\n",
      "    ax = fig.add_subplot(111)\n",
      "    ax.set_title(title)\n",
      "    ax.set_xlabel(x_label)\n",
      "    ax.set_ylabel(y_label)\n",
      "\n",
      "freq = 1 #hz - cycles per second\n",
      "amplitude = 10\n",
      "time_to_plot = 2 # second\n",
      "sample_rate = 100 # samples per second\n",
      "num_samples = sample_rate * time_to_plot\n",
      "\n",
      "#afeixit per Pere per evitar representar log(0)\n",
      "time_origin=0.01\n",
      "\n",
      "t = scipy.linspace(time_origin, time_to_plot, num_samples)\n",
      "#signal = [amplitude * math.sin(freq * i * 2*math.pi) for i in t] # Explain the 2*pi\n",
      "\"\"\"\n",
      "ver que signal es una lista de\n",
      "num_samples\n",
      "con las muestras de la funcion a samplear \n",
      "\"\"\"\n",
      "signal = [amplitude * math.log10(i) for i in t]\n",
      "\n",
      "setup_graph(x_label='', y_label='', title='log10')\n",
      "plot(t, signal)"
     ],
     "language": "python",
     "metadata": {},
     "outputs": [
      {
       "output_type": "pyout",
       "prompt_number": 19,
       "text": [
        "[<matplotlib.lines.Line2D at 0x439ecd0>]"
       ]
      },
      {
       "output_type": "display_data",
       "png": "[encoded data removed]"
      }
     ],
     "prompt_number": 19
    }
   ],
   "metadata": {}
  }
 ]
}